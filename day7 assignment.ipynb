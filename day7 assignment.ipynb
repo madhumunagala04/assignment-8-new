{
 "cells": [
  {
   "cell_type": "markdown",
   "metadata": {},
   "source": [
    "functions"
   ]
  },
  {
   "cell_type": "code",
   "execution_count": 2,
   "metadata": {},
   "outputs": [
    {
     "name": "stdout",
     "output_type": "stream",
     "text": [
      "c= 5\n"
     ]
    }
   ],
   "source": [
    "def fun(a,b):\n",
    "    c=a+b\n",
    "    print(\"c=\",c)\n",
    "fun(2,3)"
   ]
  },
  {
   "cell_type": "code",
   "execution_count": 8,
   "metadata": {},
   "outputs": [
    {
     "name": "stdout",
     "output_type": "stream",
     "text": [
      "29\n"
     ]
    }
   ],
   "source": [
    "def fun(a,b):\n",
    "    c=a+b\n",
    "    return (c)\n",
    "fun(2,4)\n",
    "res=fun(3,6)+20\n",
    "print(res)"
   ]
  },
  {
   "cell_type": "code",
   "execution_count": 11,
   "metadata": {},
   "outputs": [
    {
     "name": "stdout",
     "output_type": "stream",
     "text": [
      "name age marks\n",
      "madhu 20 65\n"
     ]
    }
   ],
   "source": [
    "def fun(name,age,marks):\n",
    "    print(name,age,marks)\n",
    "print(\"name\",\"age\",\"marks\")    \n",
    "fun(\"madhu\",20,65)\n"
   ]
  },
  {
   "cell_type": "code",
   "execution_count": 14,
   "metadata": {},
   "outputs": [
    {
     "name": "stdout",
     "output_type": "stream",
     "text": [
      "name age marks\n",
      "madhu 20 60\n",
      "yaswanth 19 92\n"
     ]
    }
   ],
   "source": [
    "def fun(name,age,marks=92):\n",
    "    print(name,age,marks)\n",
    "print(\"name\",\"age\",\"marks\")    \n",
    "fun(\"madhu\",20,60)\n",
    "fun(\"yaswanth\",19)"
   ]
  },
  {
   "cell_type": "code",
   "execution_count": 17,
   "metadata": {},
   "outputs": [
    {
     "name": "stdout",
     "output_type": "stream",
     "text": [
      "20 (30, 40, 50, 60, 70)\n"
     ]
    }
   ],
   "source": [
    "def fun(a,*b):\n",
    "    print(a,b)\n",
    "fun(20,30,40,50,60,70)"
   ]
  },
  {
   "cell_type": "code",
   "execution_count": 18,
   "metadata": {},
   "outputs": [
    {
     "name": "stdout",
     "output_type": "stream",
     "text": [
      "(30, 40, 50, 60, 70) 20\n"
     ]
    }
   ],
   "source": [
    "def fun(b,*a):\n",
    "    print(a,b)\n",
    "fun(20,30,40,50,60,70)"
   ]
  },
  {
   "cell_type": "code",
   "execution_count": 19,
   "metadata": {},
   "outputs": [
    {
     "name": "stdout",
     "output_type": "stream",
     "text": [
      "{'name': 'yaswanth', 'age': 92} <class 'dict'>\n"
     ]
    }
   ],
   "source": [
    "def fun(**kwargs):#key word arguments to dictionary\n",
    "    print(kwargs,type(kwargs))\n",
    "fun(name=\"yaswanth\",age=92)\n",
    "    "
   ]
  },
  {
   "cell_type": "markdown",
   "metadata": {},
   "source": [
    "pass by refference\n"
   ]
  },
  {
   "cell_type": "code",
   "execution_count": 25,
   "metadata": {},
   "outputs": [
    {
     "name": "stdout",
     "output_type": "stream",
     "text": [
      "[2, 3, 4] 2389856891528\n",
      "[2, 3, 4, 40] 2389856891528\n",
      "[2, 3, 4, 40] 2389856891528\n"
     ]
    }
   ],
   "source": [
    "def fun(list1):\n",
    "    print(list1,id(list1))#before appending\n",
    "    list1.append(40)\n",
    "    print(list1,id(list1))#after appending\n",
    "list2=[2,3,4]\n",
    "fun(list2)\n",
    "print(list2,id(list2))#after calling"
   ]
  },
  {
   "cell_type": "code",
   "execution_count": 36,
   "metadata": {},
   "outputs": [
    {
     "name": "stdout",
     "output_type": "stream",
     "text": [
      "20\n"
     ]
    }
   ],
   "source": [
    "k=10\n",
    "def fun():\n",
    "    global k\n",
    "    k=k+10\n",
    "    print(k)\n",
    "fun()"
   ]
  },
  {
   "cell_type": "code",
   "execution_count": 38,
   "metadata": {},
   "outputs": [
    {
     "name": "stdout",
     "output_type": "stream",
     "text": [
      "30 140706564842800\n",
      "40 140706564843120\n",
      "30 140706564842800\n"
     ]
    }
   ],
   "source": [
    "def fun(a):\n",
    "    print(a,id(a))\n",
    "    a=a+10\n",
    "    print(a,id(a))\n",
    "a=30\n",
    "fun(a)\n",
    "print(a,id(a))"
   ]
  },
  {
   "cell_type": "markdown",
   "metadata": {},
   "source": [
    "modules"
   ]
  },
  {
   "cell_type": "code",
   "execution_count": 40,
   "metadata": {},
   "outputs": [
    {
     "name": "stdout",
     "output_type": "stream",
     "text": [
      "170\n",
      "-70\n",
      "['In', 'Out', '_', '_3', '__', '___', '__builtin__', '__builtins__', '__doc__', '__loader__', '__name__', '__package__', '__spec__', '_dh', '_i', '_i1', '_i10', '_i11', '_i12', '_i13', '_i14', '_i15', '_i16', '_i17', '_i18', '_i19', '_i2', '_i20', '_i21', '_i22', '_i23', '_i24', '_i25', '_i26', '_i27', '_i28', '_i29', '_i3', '_i30', '_i31', '_i32', '_i33', '_i34', '_i35', '_i36', '_i37', '_i38', '_i39', '_i4', '_i40', '_i5', '_i6', '_i7', '_i8', '_i9', '_ih', '_ii', '_iii', '_oh', 'a', 'exit', 'fun', 'get_ipython', 'k', 'list2', 'quit', 'res', 'sub1', 'sum1']\n"
     ]
    }
   ],
   "source": [
    "def sum1(a,b):\n",
    "    c=a+b\n",
    "    return c\n",
    "def sub1(a,b):\n",
    "    c=a-b\n",
    "    return c\n",
    "print (sum1(140,30))\n",
    "print (sub1(60,130))\n",
    "print (dir())"
   ]
  },
  {
   "cell_type": "code",
   "execution_count": 42,
   "metadata": {},
   "outputs": [
    {
     "name": "stdout",
     "output_type": "stream",
     "text": [
      "92\n",
      "72\n"
     ]
    }
   ],
   "source": [
    "def multi(a,b):\n",
    "    c=a*b\n",
    "    return c\n",
    "def divide (a,b):\n",
    "    c=a/b\n",
    "print(sum1(90,2))    \n",
    "print(multi(9,8))"
   ]
  },
  {
   "cell_type": "code",
   "execution_count": 43,
   "metadata": {},
   "outputs": [
    {
     "name": "stdout",
     "output_type": "stream",
     "text": [
      "92\n",
      "4\n",
      "40\n",
      "['In', 'Out', '_', '_3', '__', '___', '__builtin__', '__builtins__', '__doc__', '__loader__', '__name__', '__package__', '__spec__', '_dh', '_i', '_i1', '_i10', '_i11', '_i12', '_i13', '_i14', '_i15', '_i16', '_i17', '_i18', '_i19', '_i2', '_i20', '_i21', '_i22', '_i23', '_i24', '_i25', '_i26', '_i27', '_i28', '_i29', '_i3', '_i30', '_i31', '_i32', '_i33', '_i34', '_i35', '_i36', '_i37', '_i38', '_i39', '_i4', '_i40', '_i41', '_i42', '_i43', '_i5', '_i6', '_i7', '_i8', '_i9', '_ih', '_ii', '_iii', '_oh', 'a', 'divide', 'exit', 'fun', 'get_ipython', 'k', 'list2', 'multi', 'quit', 'res', 'sub1', 'sum1']\n",
      "72\n"
     ]
    }
   ],
   "source": [
    "print(sum1(90,2))\n",
    "print(sub1(8,4))\n",
    "print(sum1(10,30))\n",
    "print(dir())\n",
    "print(multi(9,8))"
   ]
  },
  {
   "cell_type": "code",
   "execution_count": null,
   "metadata": {},
   "outputs": [],
   "source": []
  }
 ],
 "metadata": {
  "kernelspec": {
   "display_name": "Python 3",
   "language": "python",
   "name": "python3"
  },
  "language_info": {
   "codemirror_mode": {
    "name": "ipython",
    "version": 3
   },
   "file_extension": ".py",
   "mimetype": "text/x-python",
   "name": "python",
   "nbconvert_exporter": "python",
   "pygments_lexer": "ipython3",
   "version": "3.7.6"
  }
 },
 "nbformat": 4,
 "nbformat_minor": 4
}
